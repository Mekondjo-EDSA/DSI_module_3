{
  "nbformat": 4,
  "nbformat_minor": 0,
  "metadata": {
    "colab": {
      "name": "Sarcasm_detector_gradio.ipynb",
      "provenance": [],
      "collapsed_sections": []
    },
    "kernelspec": {
      "name": "python3",
      "display_name": "Python 3"
    },
    "language_info": {
      "name": "python"
    }
  },
  "cells": [
    {
      "cell_type": "markdown",
      "source": [
        "# DSI Module 3 - Team Air Quotes\n",
        "## Natural Language Processing (NLP)\n",
        "\n",
        "\n",
        "<img src='https://miro.medium.com/max/960/0*xLRsbQ02J7sQpNNy'>\n",
        "\n",
        "Image courtesy of ITNEXT"
      ],
      "metadata": {
        "id": "IHQ-4U9408bN"
      }
    },
    {
      "cell_type": "markdown",
      "source": [
        "## Goal:\n",
        "In this module, the purpose is the explore and appy NLP. After each team member had come up with at least one idea, it was decided that we would explore and implement a sarcasm detector. \n",
        "\n",
        "## Background\n",
        "The Cambridge English dictionary defines sarcasm as \"the use of remarks that clearly mean the opposite of what they say, made in order to hurt someone's feelings or to criticize something in a humorous way\" [1].  The Merriam-Webster dictionary defines it as \"a sharp and often satirical or ironic utterance designed to cut or give pain\" [2]. Not everybody would agree about these definitions, but sarcasm is usually when positive words are used to convey a negative message. Naturally, it differs from person to person and is highly dependent on the culture, gender and many other aspects. \n",
        "\n",
        "## Motivation:\n",
        "Especially for beginner learners of any Language, identifying sarcasm can remain a challenge. Things can be lost in translation, and people can feel hurt unintentiionally. That is why the purpose of a sarcasm detector would help people understand when something is sarcastic and not take it the wrong way. This might be especially applicable in social media circumstances such as on Twitter and Facebook. In the future this could be useful would discriminating between harmful content and witty commentaries. \n",
        "\n",
        "## Dataset \n",
        "\n",
        "\n",
        "## Team members\n",
        "Nmeso, Mekondjo, Lali, Akhil"
      ],
      "metadata": {
        "id": "f7TZaPoq1mmF"
      }
    },
    {
      "cell_type": "markdown",
      "source": [
        ""
      ],
      "metadata": {
        "id": "bU23NtJZ5iR7"
      }
    },
    {
      "cell_type": "markdown",
      "source": [
        "## Conclusion"
      ],
      "metadata": {
        "id": "6xKu3Z7z24E1"
      }
    },
    {
      "cell_type": "markdown",
      "source": [
        "## Recommendations for future works"
      ],
      "metadata": {
        "id": "iYLsPId22y0U"
      }
    },
    {
      "cell_type": "markdown",
      "source": [
        "## References:\n",
        "1. https://dictionary.cambridge.org/dictionary/english/sarcasm\n",
        "\n",
        "2. https://www.merriam-webster.com/dictionary/sarcasm \n",
        "\n",
        "3. https://aclanthology.org/D13-1066.pdf\n",
        "\n",
        "4. https://paperswithcode.com/task/sarcasm-detection\n",
        "\n",
        "5. https://towardsdatascience.com/sarcasm-detection-with-nlp-cbff1723f69a\n",
        "\n",
        "6. \n"
      ],
      "metadata": {
        "id": "BUM6ZYk32p9T"
      }
    },
    {
      "cell_type": "markdown",
      "source": [
        ""
      ],
      "metadata": {
        "id": "m2LEKXve1uhM"
      }
    },
    {
      "cell_type": "code",
      "source": [
        "pip install gradio"
      ],
      "metadata": {
        "colab": {
          "base_uri": "https://localhost:8080/"
        },
        "id": "BVQoA_gCS_ln",
        "outputId": "7de6ba81-385f-49a2-e86e-95f9fd0155ea"
      },
      "execution_count": null,
      "outputs": [
        {
          "output_type": "stream",
          "name": "stdout",
          "text": [
            "Requirement already satisfied: gradio in /usr/local/lib/python3.7/dist-packages (2.9.1)\n",
            "Requirement already satisfied: uvicorn in /usr/local/lib/python3.7/dist-packages (from gradio) (0.17.6)\n",
            "Requirement already satisfied: pillow in /usr/local/lib/python3.7/dist-packages (from gradio) (7.1.2)\n",
            "Requirement already satisfied: markdown-it-py[linkify,plugins] in /usr/local/lib/python3.7/dist-packages (from gradio) (2.0.1)\n",
            "Requirement already satisfied: python-multipart in /usr/local/lib/python3.7/dist-packages (from gradio) (0.0.5)\n",
            "Requirement already satisfied: analytics-python in /usr/local/lib/python3.7/dist-packages (from gradio) (1.4.0)\n",
            "Requirement already satisfied: numpy in /usr/local/lib/python3.7/dist-packages (from gradio) (1.21.5)\n",
            "Requirement already satisfied: paramiko in /usr/local/lib/python3.7/dist-packages (from gradio) (2.10.3)\n",
            "Requirement already satisfied: matplotlib in /usr/local/lib/python3.7/dist-packages (from gradio) (3.2.2)\n",
            "Requirement already satisfied: orjson in /usr/local/lib/python3.7/dist-packages (from gradio) (3.6.7)\n",
            "Requirement already satisfied: fastapi in /usr/local/lib/python3.7/dist-packages (from gradio) (0.75.1)\n",
            "Requirement already satisfied: pandas in /usr/local/lib/python3.7/dist-packages (from gradio) (1.3.5)\n",
            "Requirement already satisfied: pycryptodome in /usr/local/lib/python3.7/dist-packages (from gradio) (3.14.1)\n",
            "Requirement already satisfied: aiohttp in /usr/local/lib/python3.7/dist-packages (from gradio) (3.8.1)\n",
            "Requirement already satisfied: ffmpy in /usr/local/lib/python3.7/dist-packages (from gradio) (0.3.0)\n",
            "Requirement already satisfied: pydub in /usr/local/lib/python3.7/dist-packages (from gradio) (0.25.1)\n",
            "Requirement already satisfied: requests in /usr/local/lib/python3.7/dist-packages (from gradio) (2.23.0)\n",
            "Requirement already satisfied: yarl<2.0,>=1.0 in /usr/local/lib/python3.7/dist-packages (from aiohttp->gradio) (1.7.2)\n",
            "Requirement already satisfied: charset-normalizer<3.0,>=2.0 in /usr/local/lib/python3.7/dist-packages (from aiohttp->gradio) (2.0.12)\n",
            "Requirement already satisfied: frozenlist>=1.1.1 in /usr/local/lib/python3.7/dist-packages (from aiohttp->gradio) (1.3.0)\n",
            "Requirement already satisfied: aiosignal>=1.1.2 in /usr/local/lib/python3.7/dist-packages (from aiohttp->gradio) (1.2.0)\n",
            "Requirement already satisfied: multidict<7.0,>=4.5 in /usr/local/lib/python3.7/dist-packages (from aiohttp->gradio) (6.0.2)\n",
            "Requirement already satisfied: async-timeout<5.0,>=4.0.0a3 in /usr/local/lib/python3.7/dist-packages (from aiohttp->gradio) (4.0.2)\n",
            "Requirement already satisfied: typing-extensions>=3.7.4 in /usr/local/lib/python3.7/dist-packages (from aiohttp->gradio) (3.10.0.2)\n",
            "Requirement already satisfied: attrs>=17.3.0 in /usr/local/lib/python3.7/dist-packages (from aiohttp->gradio) (21.4.0)\n",
            "Requirement already satisfied: asynctest==0.13.0 in /usr/local/lib/python3.7/dist-packages (from aiohttp->gradio) (0.13.0)\n",
            "Requirement already satisfied: idna>=2.0 in /usr/local/lib/python3.7/dist-packages (from yarl<2.0,>=1.0->aiohttp->gradio) (2.10)\n",
            "Requirement already satisfied: six>=1.5 in /usr/local/lib/python3.7/dist-packages (from analytics-python->gradio) (1.15.0)\n",
            "Requirement already satisfied: monotonic>=1.5 in /usr/local/lib/python3.7/dist-packages (from analytics-python->gradio) (1.6)\n",
            "Requirement already satisfied: backoff==1.10.0 in /usr/local/lib/python3.7/dist-packages (from analytics-python->gradio) (1.10.0)\n",
            "Requirement already satisfied: python-dateutil>2.1 in /usr/local/lib/python3.7/dist-packages (from analytics-python->gradio) (2.8.2)\n",
            "Requirement already satisfied: chardet<4,>=3.0.2 in /usr/local/lib/python3.7/dist-packages (from requests->gradio) (3.0.4)\n",
            "Requirement already satisfied: certifi>=2017.4.17 in /usr/local/lib/python3.7/dist-packages (from requests->gradio) (2021.10.8)\n",
            "Requirement already satisfied: urllib3!=1.25.0,!=1.25.1,<1.26,>=1.21.1 in /usr/local/lib/python3.7/dist-packages (from requests->gradio) (1.24.3)\n",
            "Requirement already satisfied: starlette==0.17.1 in /usr/local/lib/python3.7/dist-packages (from fastapi->gradio) (0.17.1)\n",
            "Requirement already satisfied: pydantic!=1.7,!=1.7.1,!=1.7.2,!=1.7.3,!=1.8,!=1.8.1,<2.0.0,>=1.6.2 in /usr/local/lib/python3.7/dist-packages (from fastapi->gradio) (1.9.0)\n",
            "Requirement already satisfied: anyio<4,>=3.0.0 in /usr/local/lib/python3.7/dist-packages (from starlette==0.17.1->fastapi->gradio) (3.5.0)\n",
            "Requirement already satisfied: sniffio>=1.1 in /usr/local/lib/python3.7/dist-packages (from anyio<4,>=3.0.0->starlette==0.17.1->fastapi->gradio) (1.2.0)\n",
            "Requirement already satisfied: mdurl~=0.1 in /usr/local/lib/python3.7/dist-packages (from markdown-it-py[linkify,plugins]->gradio) (0.1.0)\n",
            "Requirement already satisfied: mdit-py-plugins in /usr/local/lib/python3.7/dist-packages (from markdown-it-py[linkify,plugins]->gradio) (0.3.0)\n",
            "Requirement already satisfied: linkify-it-py~=1.0 in /usr/local/lib/python3.7/dist-packages (from markdown-it-py[linkify,plugins]->gradio) (1.0.3)\n",
            "Requirement already satisfied: uc-micro-py in /usr/local/lib/python3.7/dist-packages (from linkify-it-py~=1.0->markdown-it-py[linkify,plugins]->gradio) (1.0.1)\n",
            "Requirement already satisfied: pyparsing!=2.0.4,!=2.1.2,!=2.1.6,>=2.0.1 in /usr/local/lib/python3.7/dist-packages (from matplotlib->gradio) (3.0.7)\n",
            "Requirement already satisfied: cycler>=0.10 in /usr/local/lib/python3.7/dist-packages (from matplotlib->gradio) (0.11.0)\n",
            "Requirement already satisfied: kiwisolver>=1.0.1 in /usr/local/lib/python3.7/dist-packages (from matplotlib->gradio) (1.4.0)\n",
            "Requirement already satisfied: pytz>=2017.3 in /usr/local/lib/python3.7/dist-packages (from pandas->gradio) (2018.9)\n",
            "Requirement already satisfied: cryptography>=2.5 in /usr/local/lib/python3.7/dist-packages (from paramiko->gradio) (36.0.2)\n",
            "Requirement already satisfied: bcrypt>=3.1.3 in /usr/local/lib/python3.7/dist-packages (from paramiko->gradio) (3.2.0)\n",
            "Requirement already satisfied: pynacl>=1.0.1 in /usr/local/lib/python3.7/dist-packages (from paramiko->gradio) (1.5.0)\n",
            "Requirement already satisfied: cffi>=1.1 in /usr/local/lib/python3.7/dist-packages (from bcrypt>=3.1.3->paramiko->gradio) (1.15.0)\n",
            "Requirement already satisfied: pycparser in /usr/local/lib/python3.7/dist-packages (from cffi>=1.1->bcrypt>=3.1.3->paramiko->gradio) (2.21)\n",
            "Requirement already satisfied: asgiref>=3.4.0 in /usr/local/lib/python3.7/dist-packages (from uvicorn->gradio) (3.5.0)\n",
            "Requirement already satisfied: click>=7.0 in /usr/local/lib/python3.7/dist-packages (from uvicorn->gradio) (7.1.2)\n",
            "Requirement already satisfied: h11>=0.8 in /usr/local/lib/python3.7/dist-packages (from uvicorn->gradio) (0.13.0)\n"
          ]
        }
      ]
    },
    {
      "cell_type": "code",
      "source": [
        "pip install transformers"
      ],
      "metadata": {
        "colab": {
          "base_uri": "https://localhost:8080/"
        },
        "id": "V9AeHXdATXut",
        "outputId": "4dd7eacc-42cb-45bb-a25c-52035440fd98"
      },
      "execution_count": null,
      "outputs": [
        {
          "output_type": "stream",
          "name": "stdout",
          "text": [
            "Requirement already satisfied: transformers in /usr/local/lib/python3.7/dist-packages (4.18.0)\n",
            "Requirement already satisfied: importlib-metadata in /usr/local/lib/python3.7/dist-packages (from transformers) (4.11.3)\n",
            "Requirement already satisfied: numpy>=1.17 in /usr/local/lib/python3.7/dist-packages (from transformers) (1.21.5)\n",
            "Requirement already satisfied: huggingface-hub<1.0,>=0.1.0 in /usr/local/lib/python3.7/dist-packages (from transformers) (0.5.1)\n",
            "Requirement already satisfied: tokenizers!=0.11.3,<0.13,>=0.11.1 in /usr/local/lib/python3.7/dist-packages (from transformers) (0.11.6)\n",
            "Requirement already satisfied: pyyaml>=5.1 in /usr/local/lib/python3.7/dist-packages (from transformers) (6.0)\n",
            "Requirement already satisfied: requests in /usr/local/lib/python3.7/dist-packages (from transformers) (2.23.0)\n",
            "Requirement already satisfied: tqdm>=4.27 in /usr/local/lib/python3.7/dist-packages (from transformers) (4.63.0)\n",
            "Requirement already satisfied: regex!=2019.12.17 in /usr/local/lib/python3.7/dist-packages (from transformers) (2019.12.20)\n",
            "Requirement already satisfied: filelock in /usr/local/lib/python3.7/dist-packages (from transformers) (3.6.0)\n",
            "Requirement already satisfied: sacremoses in /usr/local/lib/python3.7/dist-packages (from transformers) (0.0.49)\n",
            "Requirement already satisfied: packaging>=20.0 in /usr/local/lib/python3.7/dist-packages (from transformers) (21.3)\n",
            "Requirement already satisfied: typing-extensions>=3.7.4.3 in /usr/local/lib/python3.7/dist-packages (from huggingface-hub<1.0,>=0.1.0->transformers) (3.10.0.2)\n",
            "Requirement already satisfied: pyparsing!=3.0.5,>=2.0.2 in /usr/local/lib/python3.7/dist-packages (from packaging>=20.0->transformers) (3.0.7)\n",
            "Requirement already satisfied: zipp>=0.5 in /usr/local/lib/python3.7/dist-packages (from importlib-metadata->transformers) (3.7.0)\n",
            "Requirement already satisfied: urllib3!=1.25.0,!=1.25.1,<1.26,>=1.21.1 in /usr/local/lib/python3.7/dist-packages (from requests->transformers) (1.24.3)\n",
            "Requirement already satisfied: idna<3,>=2.5 in /usr/local/lib/python3.7/dist-packages (from requests->transformers) (2.10)\n",
            "Requirement already satisfied: chardet<4,>=3.0.2 in /usr/local/lib/python3.7/dist-packages (from requests->transformers) (3.0.4)\n",
            "Requirement already satisfied: certifi>=2017.4.17 in /usr/local/lib/python3.7/dist-packages (from requests->transformers) (2021.10.8)\n",
            "Requirement already satisfied: six in /usr/local/lib/python3.7/dist-packages (from sacremoses->transformers) (1.15.0)\n",
            "Requirement already satisfied: joblib in /usr/local/lib/python3.7/dist-packages (from sacremoses->transformers) (1.1.0)\n",
            "Requirement already satisfied: click in /usr/local/lib/python3.7/dist-packages (from sacremoses->transformers) (7.1.2)\n"
          ]
        }
      ]
    },
    {
      "cell_type": "code",
      "execution_count": null,
      "metadata": {
        "id": "c-p6zluKSvXr"
      },
      "outputs": [],
      "source": [
        "import gradio as gr\n",
        "import re\n",
        "\n",
        "from transformers import pipeline"
      ]
    },
    {
      "cell_type": "code",
      "source": [
        "from google.colab import drive\n",
        "drive.mount('/content/drive')"
      ],
      "metadata": {
        "colab": {
          "base_uri": "https://localhost:8080/"
        },
        "id": "F1B4R1eJ4A1_",
        "outputId": "2cf97312-41d9-4762-9583-54da6e9cdda9"
      },
      "execution_count": null,
      "outputs": [
        {
          "output_type": "stream",
          "name": "stdout",
          "text": [
            "Drive already mounted at /content/drive; to attempt to forcibly remount, call drive.mount(\"/content/drive\", force_remount=True).\n"
          ]
        }
      ]
    },
    {
      "cell_type": "code",
      "source": [
        "!ls"
      ],
      "metadata": {
        "colab": {
          "base_uri": "https://localhost:8080/"
        },
        "id": "zF4kaWcU5IX8",
        "outputId": "22437cec-d5ab-44ea-e33a-f46e1a09a11a"
      },
      "execution_count": null,
      "outputs": [
        {
          "output_type": "stream",
          "name": "stdout",
          "text": [
            "drive  flagged\tsample_data\n"
          ]
        }
      ]
    },
    {
      "cell_type": "code",
      "source": [
        "# load code\n",
        "import pickle as cPickle\n",
        "with open('/content/drive/MyDrive/M3/Naive_Bayes_model.sav', 'rb') as fid1:\n",
        "    loaded_Naive_Bayes = cPickle.load(fid1)"
      ],
      "metadata": {
        "colab": {
          "base_uri": "https://localhost:8080/"
        },
        "id": "OULnRDV-3gIw",
        "outputId": "61d7c164-c7a9-4fed-fd26-6f09dbd53ad8"
      },
      "execution_count": null,
      "outputs": [
        {
          "output_type": "stream",
          "name": "stderr",
          "text": [
            "/usr/local/lib/python3.7/dist-packages/sklearn/base.py:338: UserWarning: Trying to unpickle estimator MultinomialNB from version 0.24.2 when using version 1.0.2. This might lead to breaking code or invalid results. Use at your own risk. For more info please refer to:\n",
            "https://scikit-learn.org/stable/modules/model_persistence.html#security-maintainability-limitations\n",
            "  UserWarning,\n"
          ]
        }
      ]
    },
    {
      "cell_type": "code",
      "source": [
        "with open('/content/drive/MyDrive/M3/SVC_model.sav', 'rb') as fid2:\n",
        "    loaded_SVC = cPickle.load(fid2)"
      ],
      "metadata": {
        "id": "Z5XR_r0j3v6N",
        "colab": {
          "base_uri": "https://localhost:8080/"
        },
        "outputId": "f73a26d6-ec3b-4a14-a768-4a28a9525254"
      },
      "execution_count": null,
      "outputs": [
        {
          "output_type": "stream",
          "name": "stderr",
          "text": [
            "/usr/local/lib/python3.7/dist-packages/sklearn/base.py:338: UserWarning: Trying to unpickle estimator SVC from version 0.24.2 when using version 1.0.2. This might lead to breaking code or invalid results. Use at your own risk. For more info please refer to:\n",
            "https://scikit-learn.org/stable/modules/model_persistence.html#security-maintainability-limitations\n",
            "  UserWarning,\n"
          ]
        }
      ]
    },
    {
      "cell_type": "code",
      "source": [
        "# text cleaning\n",
        "def clean_text(raw_text):\n",
        "    text = raw_text.encode(\"ascii\", errors=\"ignore\").decode(\"ascii\")  # remove non-ascii, Chinese characters\n",
        "    text = raw_text.lower()  # lower case\n",
        "    text = re.sub(r\"\\n\", \" \", raw_text)\n",
        "    text = re.sub(r\"\\n\\n\", \" \", raw_text)\n",
        "    text = re.sub(r\"\\t\", \" \", raw_text)\n",
        "    text = text.strip(\" \")\n",
        "    text = re.sub(r\"[^\\w\\s]\", \"\", raw_text)  # remove punctuation and special characters\n",
        "    text = re.sub(\" +\", \" \", raw_text).strip()  # get rid of multiple spaces and replace with a single\n",
        "\n",
        "    text = re.sub(r\"http\\S+\", \"\", raw_text)\n",
        "    text = re.sub(r\"\\n\", \" \", raw_text)\n",
        "    text = re.sub(r\"\\'t\", \" not\", raw_text)  # Change 't to 'not'\n",
        "    text = re.sub(r\"(@.*?)[\\s]\", \" \", raw_text)  # Remove @name\n",
        "    text = re.sub(r\"$\\d+\\W+|\\b\\d+\\b|\\W+\\d+$\", \" \", raw_text)  # remove digits\n",
        "    text = re.sub(r\"[^\\w\\s\\#]\", \"\", raw_text)  # remove special characters except hashtags\n",
        "    return text"
      ],
      "metadata": {
        "id": "PCGrt0Fs_2TQ"
      },
      "execution_count": null,
      "outputs": []
    },
    {
      "cell_type": "code",
      "source": [
        "sarcasm_NB = loaded_Naive_Bayes\n",
        "\n",
        "\n",
        "# sarcasm detector\n",
        "def sarcasm_detector_NB(text):\n",
        "    data = [clean_text(text)]\n",
        "    my_prediction = sarcasm_NB.predict(data)\n",
        "\n",
        "    if my_prediction == 1:\n",
        "        return \"Positive\"\n",
        "    elif my_prediction == 0:\n",
        "        return \"Negative\"\n"
      ],
      "metadata": {
        "id": "4rLlSdju_83Y"
      },
      "execution_count": null,
      "outputs": []
    },
    {
      "cell_type": "code",
      "source": [
        "# sentiment = pipeline(\"sentiment-analysis\") \n",
        "# # you can swop out \"sentiment-analysis\" for other task identifiers such as \"summarization\" or \"zero-shot-classification\".\n",
        "\n",
        "# # I've added optional lines for text cleaning\n",
        "# # note that the sentiment-analysis pipeline returns 2 values - a label and a score\n",
        "# def sentiment_analysis(text):\n",
        "#     text = text.encode(\"ascii\", errors=\"ignore\").decode(\n",
        "#         \"ascii\"\n",
        "#     )  # remove non-ascii, Chinese characters\n",
        "#     text = text.lower()  # lower case\n",
        "#     text = re.sub(r\"\\n\", \" \", text)\n",
        "#     text = re.sub(r\"\\n\\n\", \" \", text)\n",
        "#     text = re.sub(r\"\\t\", \" \", text)\n",
        "#     text = text.strip(\" \")\n",
        "#     text = re.sub(r\"[^\\w\\s]\", \"\", text)  # remove punctuation and special characters\n",
        "#     text = re.sub(\n",
        "#         \" +\", \" \", text\n",
        "#     ).strip()  # get rid of multiple spaces and replace with a single\n",
        "#     results = sentiment(text)\n",
        "#     return results[0][\"label\"], round(results[0][\"score\"], 5)"
      ],
      "metadata": {
        "id": "tl12lKUTThl8"
      },
      "execution_count": null,
      "outputs": []
    },
    {
      "cell_type": "code",
      "source": [
        "# sarcasm_NB = loaded_Naive_Bayes\n",
        "\n",
        "# def sarcasm_analysis_NB(text):\n",
        "#     text = text.encode(\"ascii\", errors=\"ignore\").decode(\n",
        "#         \"ascii\"\n",
        "#     )  # remove non-ascii, Chinese characters\n",
        "#     text = text.lower()  # lower case\n",
        "#     text = re.sub(r\"\\n\", \" \", text)\n",
        "#     text = re.sub(r\"\\n\\n\", \" \", text)\n",
        "#     text = re.sub(r\"\\t\", \" \", text)\n",
        "#     text = text.strip(\" \")\n",
        "#     text = re.sub(r\"[^\\w\\s]\", \"\", text)  # remove punctuation and special characters\n",
        "#     text = re.sub(\n",
        "#         \" +\", \" \", text\n",
        "#     ).strip()  # get rid of multiple spaces and replace with a single\n",
        "#     prediction = sarcasm_NB.predict(text)\n",
        "\n",
        "#     if prediction == 1:\n",
        "#         return \"Positive\"\n",
        "#     elif prediction == 0:\n",
        "#         return \"Negative\"\n",
        "\n",
        "#     # class_names = ['positive', 'negative']\n",
        "#     # return {class_names[i]: prediction[i] for i in range(2)}\n",
        "#     #results = sarcasm_NB(text)\n",
        "#     #print(results)\n",
        "#     #return results[0][\"label\"], round(results[0][\"score\"], 5)"
      ],
      "metadata": {
        "id": "aCKXYUTt8Apy"
      },
      "execution_count": null,
      "outputs": []
    },
    {
      "cell_type": "code",
      "source": [
        "#sarcasm_analysis_NB('hello')"
      ],
      "metadata": {
        "id": "2UrHWHok8HWL"
      },
      "execution_count": null,
      "outputs": []
    },
    {
      "cell_type": "code",
      "source": [
        "# sarcasm_SVC = loaded_SVC\n",
        "\n",
        "# def sarcasm_analysis_SVC(text):\n",
        "#     text = text.encode(\"ascii\", errors=\"ignore\").decode(\n",
        "#         \"ascii\"\n",
        "#     )  # remove non-ascii, Chinese characters\n",
        "#     text = text.lower()  # lower case\n",
        "#     text = re.sub(r\"\\n\", \" \", text)\n",
        "#     text = re.sub(r\"\\n\\n\", \" \", text)\n",
        "#     text = re.sub(r\"\\t\", \" \", text)\n",
        "#     text = text.strip(\" \")\n",
        "#     text = re.sub(r\"[^\\w\\s]\", \"\", text)  # remove punctuation and special characters\n",
        "#     text = re.sub(\n",
        "#         \" +\", \" \", text\n",
        "#     ).strip()  # get rid of multiple spaces and replace with a single\n",
        "#     results = sarcasm_SVC(text)\n",
        "#     print(results)\n",
        "#     #return results[0][\"label\"], round(results[0][\"score\"], 5)"
      ],
      "metadata": {
        "id": "I30bcrlf6a1b"
      },
      "execution_count": null,
      "outputs": []
    },
    {
      "cell_type": "code",
      "source": [
        "#sarcasm_analysis_SVC('hello')"
      ],
      "metadata": {
        "id": "Z6vMF5Jx74VT"
      },
      "execution_count": null,
      "outputs": []
    },
    {
      "cell_type": "code",
      "source": [
        "# https://examples.yourdictionary.com/examples-of-sarcasm.html\n",
        "#https://github.com/chuachinhon/gradio_nlp/blob/main/notebooks/1.0_gradio_sentiment.ipynb\n",
        "samples=[['That\\'s just what I needed today!'],\n",
        "          ['Well, what a surprise.'],\n",
        "          ['Very good; well done!'],\n",
        "          ['I love the DSI!'],\n",
        "          ['Are we done yet?'],\n",
        "          ['Is it time for your medication or mine?']]\n",
        "\n",
        "article = '''\n",
        "<!DOCTYPE html>\n",
        "<html>\n",
        "<body>\n",
        "<br>\n",
        "<p>\n",
        "DSI Module 3 - Team: Air Quotes\n",
        "</p>\n",
        "<p><i>Composed of: Nmeso, Mekondjo, Lali, and Akhil</i></p> \n",
        "</body>\n",
        "</html>\n",
        "'''\n",
        "\n",
        "gradio_ui = gr.Interface(\n",
        "    fn=sarcasm_detector_NB,\n",
        "    title=\"Sarcasm Detector\",\n",
        "    description=\"Enter some text and see if the model can evaluate sarcasm correctly. <br> \\\n",
        "    Some sample texts can be selected below.\",\n",
        "    theme = 'huggingface',\n",
        "    examples = samples,\n",
        "    article = article,\n",
        "    inputs=gr.inputs.Textbox(lines=10, label=\"Enter some text here:\"),\n",
        "    outputs=[\n",
        "        gr.outputs.Textbox(label=\"Sarcasm Label\"),\n",
        "        gr.outputs.Textbox(label=\"Sarcasm Score\"),\n",
        "    ],\n",
        ")"
      ],
      "metadata": {
        "id": "aKuOgZd8TonE"
      },
      "execution_count": null,
      "outputs": []
    },
    {
      "cell_type": "code",
      "source": [
        "# set gradio_ui.launch(share=True) if you need to share it outside of your local machine.\n",
        "# The link works for 24 hours and as long as your notebook is running\n",
        "\n",
        "gradio_ui.launch()"
      ],
      "metadata": {
        "colab": {
          "base_uri": "https://localhost:8080/",
          "height": 643
        },
        "id": "PXnp6zs6TqxM",
        "outputId": "205c2734-7dbb-437b-8e8b-4d8d5053a4ff"
      },
      "execution_count": null,
      "outputs": [
        {
          "output_type": "stream",
          "name": "stdout",
          "text": [
            "Colab notebook detected. To show errors in colab notebook, set `debug=True` in `launch()`\n",
            "Running on public URL: https://44793.gradio.app\n",
            "\n",
            "This share link expires in 72 hours. For free permanent hosting, check out Spaces (https://huggingface.co/spaces)\n"
          ]
        },
        {
          "output_type": "display_data",
          "data": {
            "text/plain": [
              "<IPython.lib.display.IFrame at 0x7f3ec6b09910>"
            ],
            "text/html": [
              "\n",
              "        <iframe\n",
              "            width=\"900\"\n",
              "            height=\"500\"\n",
              "            src=\"https://44793.gradio.app\"\n",
              "            frameborder=\"0\"\n",
              "            allowfullscreen\n",
              "        ></iframe>\n",
              "        "
            ]
          },
          "metadata": {}
        },
        {
          "output_type": "execute_result",
          "data": {
            "text/plain": [
              "(<fastapi.applications.FastAPI at 0x7f4049783ed0>,\n",
              " 'http://127.0.0.1:7863/',\n",
              " 'https://44793.gradio.app')"
            ]
          },
          "metadata": {},
          "execution_count": 70
        }
      ]
    }
  ]
}